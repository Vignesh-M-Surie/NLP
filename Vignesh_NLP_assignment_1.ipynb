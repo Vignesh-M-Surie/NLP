{
  "nbformat": 4,
  "nbformat_minor": 0,
  "metadata": {
    "colab": {
      "name": "Vignesh NLP assignment 1",
      "provenance": [],
      "collapsed_sections": []
    },
    "kernelspec": {
      "display_name": "Python 3",
      "name": "python3"
    }
  },
  "cells": [
    {
      "cell_type": "code",
      "metadata": {
        "id": "DlvoXsBXik04"
      },
      "source": [
        "import nltk\r\n",
        "nltk.download(\"all\")"
      ],
      "execution_count": null,
      "outputs": []
    },
    {
      "cell_type": "code",
      "metadata": {
        "id": "1Une_wc5lPbY"
      },
      "source": [
        "from nltk.corpus import movie_reviews\r\n",
        "from nltk.tokenize  import word_tokenize\r\n",
        "from nltk.tokenize import sent_tokenize\r\n",
        "from nltk.corpus import stopwords"
      ],
      "execution_count": 106,
      "outputs": []
    },
    {
      "cell_type": "code",
      "metadata": {
        "id": "Vnezg4ZPqJll"
      },
      "source": [
        "a=movie_reviews.fileids()\r\n",
        "a"
      ],
      "execution_count": null,
      "outputs": []
    },
    {
      "cell_type": "code",
      "metadata": {
        "id": "bJ9vTBSLu7e-"
      },
      "source": [
        "a[-1000:]"
      ],
      "execution_count": null,
      "outputs": []
    },
    {
      "cell_type": "code",
      "metadata": {
        "id": "dXO-jpn4qLrG"
      },
      "source": [
        "review=movie_reviews.raw('pos/cv708_28729.txt')"
      ],
      "execution_count": 109,
      "outputs": []
    },
    {
      "cell_type": "code",
      "metadata": {
        "id": "SvAzYaqjqjL7"
      },
      "source": [
        "review"
      ],
      "execution_count": null,
      "outputs": []
    },
    {
      "cell_type": "code",
      "metadata": {
        "id": "ZaDzgOWTqkbP"
      },
      "source": [
        "stop_words=stopwords.words(\"english\")\r\n",
        "stop_words"
      ],
      "execution_count": null,
      "outputs": []
    },
    {
      "cell_type": "code",
      "metadata": {
        "id": "buM7-2Qrx2Nj"
      },
      "source": [
        "nonfiltered=[]\r\n",
        "filtered_words=[]\r\n"
      ],
      "execution_count": 222,
      "outputs": []
    },
    {
      "cell_type": "code",
      "metadata": {
        "id": "TxykMcyoxJXg"
      },
      "source": [
        "tokenized = sent_tokenize(review) \r\n",
        "for i in tokenized: \r\n",
        "    wordsList = nltk.word_tokenize(i)\r\n",
        "    wordsList = [w for w in wordsList if not w in stop_words]\r\n",
        "    tagged = nltk.pos_tag(wordsList) \r\n",
        "    print(tagged) "
      ],
      "execution_count": null,
      "outputs": []
    },
    {
      "cell_type": "code",
      "metadata": {
        "id": "qwjTIdET3WQ4"
      },
      "source": [
        "for i in tokenized:\r\n",
        "  words=nltk.word_tokenize(i)\r\n",
        "  for j in words:\r\n",
        "    if j not in stop_words:\r\n",
        "      filtered_words.append(j)\r\n",
        "    else:\r\n",
        "      nonfiltered.append(j)\r\n"
      ],
      "execution_count": 223,
      "outputs": []
    },
    {
      "cell_type": "code",
      "metadata": {
        "colab": {
          "base_uri": "https://localhost:8080/"
        },
        "id": "0LRrL2BCCwOA",
        "outputId": "18682597-19f3-42a4-fcc9-cfc43b4e39ba"
      },
      "source": [
        "filtered_words\r\n",
        "print(\"Total number of words excluding stopwords : \",len(filtered_words))"
      ],
      "execution_count": 227,
      "outputs": [
        {
          "output_type": "stream",
          "text": [
            "Total number of words excluding stopwords :  587\n"
          ],
          "name": "stdout"
        }
      ]
    },
    {
      "cell_type": "code",
      "metadata": {
        "id": "pjszdul0F8Iq"
      },
      "source": [
        ""
      ],
      "execution_count": null,
      "outputs": []
    }
  ]
}